{
 "cells": [
  {
   "cell_type": "code",
   "execution_count": 4,
   "id": "a4fef2b8-6a1a-483b-9682-30cd2721c0b8",
   "metadata": {},
   "outputs": [],
   "source": [
    "import pandas as pd\n",
    "import numpy as np\n",
    "import matplotlib.pyplot as plt"
   ]
  },
  {
   "cell_type": "markdown",
   "id": "65cdeb27-f051-4daf-9589-b957d60242f1",
   "metadata": {},
   "source": [
    "# Downloading "
   ]
  },
  {
   "cell_type": "code",
   "execution_count": 20,
   "id": "e9b8d3f2-763f-46a1-8ff8-868a7d38ead3",
   "metadata": {},
   "outputs": [
    {
     "name": "stdout",
     "output_type": "stream",
     "text": [
      "Requirement already satisfied: kaggle in /opt/anaconda3/lib/python3.12/site-packages (1.7.4.2)\n",
      "Requirement already satisfied: bleach in /opt/anaconda3/lib/python3.12/site-packages (from kaggle) (4.1.0)\n",
      "Requirement already satisfied: certifi>=14.05.14 in /opt/anaconda3/lib/python3.12/site-packages (from kaggle) (2024.7.4)\n",
      "Requirement already satisfied: charset-normalizer in /opt/anaconda3/lib/python3.12/site-packages (from kaggle) (2.0.4)\n",
      "Requirement already satisfied: idna in /opt/anaconda3/lib/python3.12/site-packages (from kaggle) (3.7)\n",
      "Requirement already satisfied: protobuf in /opt/anaconda3/lib/python3.12/site-packages (from kaggle) (3.20.3)\n",
      "Requirement already satisfied: python-dateutil>=2.5.3 in /opt/anaconda3/lib/python3.12/site-packages (from kaggle) (2.9.0.post0)\n",
      "Requirement already satisfied: python-slugify in /opt/anaconda3/lib/python3.12/site-packages (from kaggle) (5.0.2)\n",
      "Requirement already satisfied: requests in /opt/anaconda3/lib/python3.12/site-packages (from kaggle) (2.32.2)\n",
      "Requirement already satisfied: setuptools>=21.0.0 in /opt/anaconda3/lib/python3.12/site-packages (from kaggle) (69.5.1)\n",
      "Requirement already satisfied: six>=1.10 in /opt/anaconda3/lib/python3.12/site-packages (from kaggle) (1.16.0)\n",
      "Requirement already satisfied: text-unidecode in /opt/anaconda3/lib/python3.12/site-packages (from kaggle) (1.3)\n",
      "Requirement already satisfied: tqdm in /opt/anaconda3/lib/python3.12/site-packages (from kaggle) (4.66.4)\n",
      "Requirement already satisfied: urllib3>=1.15.1 in /opt/anaconda3/lib/python3.12/site-packages (from kaggle) (2.2.2)\n",
      "Requirement already satisfied: webencodings in /opt/anaconda3/lib/python3.12/site-packages (from kaggle) (0.5.1)\n",
      "Requirement already satisfied: packaging in /opt/anaconda3/lib/python3.12/site-packages (from bleach->kaggle) (23.2)\n",
      "Note: you may need to restart the kernel to use updated packages.\n"
     ]
    }
   ],
   "source": [
    "pip install kaggle #download kaggle api"
   ]
  },
  {
   "cell_type": "code",
   "execution_count": 24,
   "id": "4623b6a8-75cf-4b60-8d58-6e1bf8d6104e",
   "metadata": {},
   "outputs": [],
   "source": [
    "!kaggle competitions download -c playground-series-s4e1 #download dataset"
   ]
  },
  {
   "cell_type": "code",
   "execution_count": 28,
   "id": "a928009d-1717-46b9-a77c-5215addde071",
   "metadata": {},
   "outputs": [
    {
     "name": "stdout",
     "output_type": "stream",
     "text": [
      "Kaggle Tabular Data.ipynb  \u001b[34mLab.5\u001b[m\u001b[m\n",
      "\u001b[34mLab.1\u001b[m\u001b[m                      \u001b[34mLab.6\u001b[m\u001b[m\n",
      "\u001b[34mLab.2\u001b[m\u001b[m                      \u001b[34mLab.7\u001b[m\u001b[m\n",
      "\u001b[34mLab.3\u001b[m\u001b[m                      \u001b[34mLab.8\u001b[m\u001b[m\n",
      "\u001b[34mLab.4\u001b[m\u001b[m                      playground-series-s4e1.zip\n"
     ]
    }
   ],
   "source": [
    "!ls"
   ]
  },
  {
   "cell_type": "code",
   "execution_count": 30,
   "id": "3f182ea0-61fd-4fc5-8a5e-62cbb044ebc4",
   "metadata": {},
   "outputs": [
    {
     "name": "stdout",
     "output_type": "stream",
     "text": [
      "Archive:  playground-series-s4e1.zip\n",
      "  inflating: sample_submission.csv   \n",
      "  inflating: test.csv                \n",
      "  inflating: train.csv               \n"
     ]
    }
   ],
   "source": [
    "!unzip playground-series-s4e1.zip #unzip files"
   ]
  },
  {
   "cell_type": "code",
   "execution_count": 32,
   "id": "4d2df192-9dfa-49b4-b849-f6bf7cb6925c",
   "metadata": {},
   "outputs": [
    {
     "name": "stdout",
     "output_type": "stream",
     "text": [
      "total 56680\n",
      "-rw-r--r--   1 nghitran  staff    21K Apr 10 20:58 Kaggle Tabular Data.ipynb\n",
      "drwxr-xr-x   3 nghitran  staff    96B Feb 12 15:05 \u001b[34mLab.1\u001b[m\u001b[m/\n",
      "drwxr-xr-x   4 nghitran  staff   128B Mar 29 00:10 \u001b[34mLab.2\u001b[m\u001b[m/\n",
      "drwxr-xr-x   6 nghitran  staff   192B Mar 29 00:10 \u001b[34mLab.3\u001b[m\u001b[m/\n",
      "drwxr-xr-x   8 nghitran  staff   256B Mar 29 00:10 \u001b[34mLab.4\u001b[m\u001b[m/\n",
      "drwxr-xr-x   5 nghitran  staff   160B Mar 29 00:10 \u001b[34mLab.5\u001b[m\u001b[m/\n",
      "drwxr-xr-x   6 nghitran  staff   192B Mar 29 00:10 \u001b[34mLab.6\u001b[m\u001b[m/\n",
      "drwxr-xr-x  10 nghitran  staff   320B Mar 29 00:22 \u001b[34mLab.7\u001b[m\u001b[m/\n",
      "drwxr-xr-x   4 nghitran  staff   128B Apr 10 19:43 \u001b[34mLab.8\u001b[m\u001b[m/\n",
      "-rw-r--r--   1 nghitran  staff   6.8M Dec 31  2023 playground-series-s4e1.zip\n",
      "-rw-r--r--   1 nghitran  staff   1.2M Dec 31  2023 sample_submission.csv\n",
      "-rw-r--r--   1 nghitran  staff   7.7M Dec 31  2023 test.csv\n",
      "-rw-r--r--   1 nghitran  staff    12M Dec 31  2023 train.csv\n"
     ]
    }
   ],
   "source": [
    "ls -lh"
   ]
  },
  {
   "cell_type": "markdown",
   "id": "2e1da939-5208-4ab9-b1d2-ea8c98df9256",
   "metadata": {},
   "source": [
    "# Loading n Looking"
   ]
  },
  {
   "cell_type": "code",
   "execution_count": 6,
   "id": "2d2218c3-d036-47e0-bc91-a0f82bfe6f94",
   "metadata": {},
   "outputs": [],
   "source": [
    "#load data into pandas dataset\n",
    "df = pd.read_csv('train.csv')"
   ]
  },
  {
   "cell_type": "code",
   "execution_count": 8,
   "id": "e27d0903-112f-4b50-b21e-59a6b9b52cbd",
   "metadata": {},
   "outputs": [
    {
     "data": {
      "text/html": [
       "<div>\n",
       "<style scoped>\n",
       "    .dataframe tbody tr th:only-of-type {\n",
       "        vertical-align: middle;\n",
       "    }\n",
       "\n",
       "    .dataframe tbody tr th {\n",
       "        vertical-align: top;\n",
       "    }\n",
       "\n",
       "    .dataframe thead th {\n",
       "        text-align: right;\n",
       "    }\n",
       "</style>\n",
       "<table border=\"1\" class=\"dataframe\">\n",
       "  <thead>\n",
       "    <tr style=\"text-align: right;\">\n",
       "      <th></th>\n",
       "      <th>id</th>\n",
       "      <th>CustomerId</th>\n",
       "      <th>Surname</th>\n",
       "      <th>CreditScore</th>\n",
       "      <th>Geography</th>\n",
       "      <th>Gender</th>\n",
       "      <th>Age</th>\n",
       "      <th>Tenure</th>\n",
       "      <th>Balance</th>\n",
       "      <th>NumOfProducts</th>\n",
       "      <th>HasCrCard</th>\n",
       "      <th>IsActiveMember</th>\n",
       "      <th>EstimatedSalary</th>\n",
       "      <th>Exited</th>\n",
       "    </tr>\n",
       "  </thead>\n",
       "  <tbody>\n",
       "    <tr>\n",
       "      <th>0</th>\n",
       "      <td>0</td>\n",
       "      <td>15674932</td>\n",
       "      <td>Okwudilichukwu</td>\n",
       "      <td>668</td>\n",
       "      <td>France</td>\n",
       "      <td>Male</td>\n",
       "      <td>33.0</td>\n",
       "      <td>3</td>\n",
       "      <td>0.00</td>\n",
       "      <td>2</td>\n",
       "      <td>1.0</td>\n",
       "      <td>0.0</td>\n",
       "      <td>181449.97</td>\n",
       "      <td>0</td>\n",
       "    </tr>\n",
       "    <tr>\n",
       "      <th>1</th>\n",
       "      <td>1</td>\n",
       "      <td>15749177</td>\n",
       "      <td>Okwudiliolisa</td>\n",
       "      <td>627</td>\n",
       "      <td>France</td>\n",
       "      <td>Male</td>\n",
       "      <td>33.0</td>\n",
       "      <td>1</td>\n",
       "      <td>0.00</td>\n",
       "      <td>2</td>\n",
       "      <td>1.0</td>\n",
       "      <td>1.0</td>\n",
       "      <td>49503.50</td>\n",
       "      <td>0</td>\n",
       "    </tr>\n",
       "    <tr>\n",
       "      <th>2</th>\n",
       "      <td>2</td>\n",
       "      <td>15694510</td>\n",
       "      <td>Hsueh</td>\n",
       "      <td>678</td>\n",
       "      <td>France</td>\n",
       "      <td>Male</td>\n",
       "      <td>40.0</td>\n",
       "      <td>10</td>\n",
       "      <td>0.00</td>\n",
       "      <td>2</td>\n",
       "      <td>1.0</td>\n",
       "      <td>0.0</td>\n",
       "      <td>184866.69</td>\n",
       "      <td>0</td>\n",
       "    </tr>\n",
       "    <tr>\n",
       "      <th>3</th>\n",
       "      <td>3</td>\n",
       "      <td>15741417</td>\n",
       "      <td>Kao</td>\n",
       "      <td>581</td>\n",
       "      <td>France</td>\n",
       "      <td>Male</td>\n",
       "      <td>34.0</td>\n",
       "      <td>2</td>\n",
       "      <td>148882.54</td>\n",
       "      <td>1</td>\n",
       "      <td>1.0</td>\n",
       "      <td>1.0</td>\n",
       "      <td>84560.88</td>\n",
       "      <td>0</td>\n",
       "    </tr>\n",
       "    <tr>\n",
       "      <th>4</th>\n",
       "      <td>4</td>\n",
       "      <td>15766172</td>\n",
       "      <td>Chiemenam</td>\n",
       "      <td>716</td>\n",
       "      <td>Spain</td>\n",
       "      <td>Male</td>\n",
       "      <td>33.0</td>\n",
       "      <td>5</td>\n",
       "      <td>0.00</td>\n",
       "      <td>2</td>\n",
       "      <td>1.0</td>\n",
       "      <td>1.0</td>\n",
       "      <td>15068.83</td>\n",
       "      <td>0</td>\n",
       "    </tr>\n",
       "  </tbody>\n",
       "</table>\n",
       "</div>"
      ],
      "text/plain": [
       "   id  CustomerId         Surname  CreditScore Geography Gender   Age  Tenure  \\\n",
       "0   0    15674932  Okwudilichukwu          668    France   Male  33.0       3   \n",
       "1   1    15749177   Okwudiliolisa          627    France   Male  33.0       1   \n",
       "2   2    15694510           Hsueh          678    France   Male  40.0      10   \n",
       "3   3    15741417             Kao          581    France   Male  34.0       2   \n",
       "4   4    15766172       Chiemenam          716     Spain   Male  33.0       5   \n",
       "\n",
       "     Balance  NumOfProducts  HasCrCard  IsActiveMember  EstimatedSalary  \\\n",
       "0       0.00              2        1.0             0.0        181449.97   \n",
       "1       0.00              2        1.0             1.0         49503.50   \n",
       "2       0.00              2        1.0             0.0        184866.69   \n",
       "3  148882.54              1        1.0             1.0         84560.88   \n",
       "4       0.00              2        1.0             1.0         15068.83   \n",
       "\n",
       "   Exited  \n",
       "0       0  \n",
       "1       0  \n",
       "2       0  \n",
       "3       0  \n",
       "4       0  "
      ]
     },
     "execution_count": 8,
     "metadata": {},
     "output_type": "execute_result"
    }
   ],
   "source": [
    "df.head()"
   ]
  },
  {
   "cell_type": "code",
   "execution_count": 10,
   "id": "c84cc04e-a75f-4b0e-809f-bbb850b69259",
   "metadata": {},
   "outputs": [
    {
     "name": "stdout",
     "output_type": "stream",
     "text": [
      "Rows: 165034 \n",
      "Features: 14\n"
     ]
    }
   ],
   "source": [
    "#Check to see data size\n",
    "rows, features = df.shape\n",
    "print(\"Rows:\", rows, \"\\nFeatures:\", features)"
   ]
  },
  {
   "cell_type": "code",
   "execution_count": 12,
   "id": "6f0d1579-4605-4e05-b79f-5a33a94d8ccd",
   "metadata": {},
   "outputs": [],
   "source": [
    "#Drop id, customerid and surname because they're not significant now\n",
    "df1=df.copy()\n",
    "df=df.drop(columns=['id','CustomerId','Surname'])\n"
   ]
  },
  {
   "cell_type": "code",
   "execution_count": 14,
   "id": "1780ebb6-95c2-401d-9add-641ad264fb2b",
   "metadata": {},
   "outputs": [
    {
     "name": "stdout",
     "output_type": "stream",
     "text": [
      "Rows: 165034 \n",
      "Features: 11\n"
     ]
    }
   ],
   "source": [
    "rows, features = df.shape\n",
    "print(\"Rows:\", rows, \"\\nFeatures:\", features)"
   ]
  },
  {
   "cell_type": "code",
   "execution_count": 110,
   "id": "bf0ae2b3-27b2-42d8-8ff2-e69550f6dd83",
   "metadata": {},
   "outputs": [],
   "source": [
    "from tabulate import tabulate\n",
    "from IPython.display import display, HTML\n",
    "\n",
    "#Make a table to display features' details\n",
    "def feature_summary_table(df):\n",
    "    summary = []\n",
    "    \n",
    "    for col in df.columns:\n",
    "        col_data = df[col]\n",
    "        dtype = col_data.dtype #gives feature type\n",
    "        missing = col_data.isnull().sum()\n",
    "        dupe=col_data.duplicated().sum()\n",
    "\n",
    "        # Assign type of feature and select values to display\n",
    "        if pd.api.types.is_numeric_dtype(dtype):\n",
    "            ftype = \"Numerical\"\n",
    "            values = f\"{col_data.min():.2f} – {col_data.max():.2f}\"\n",
    "        else:\n",
    "            ftype = \"Categorical\"\n",
    "            values = sorted(col_data.dropna().unique())\n",
    "\n",
    "        # Outlier detection (for numerical only)\n",
    "        if ftype == \"Numerical\":\n",
    "            q1 = col_data.quantile(0.25)\n",
    "            q3 = col_data.quantile(0.75)\n",
    "            iqr = q3 - q1\n",
    "            lower = q1 - 1.5 * iqr\n",
    "            upper = q3 + 1.5 * iqr\n",
    "            outliers = ((col_data < lower) | (col_data > upper)).sum()\n",
    "        else:\n",
    "            outliers = \"N/A\"\n",
    "\n",
    "        summary.append([col, ftype, values, missing, dupe, outliers])\n",
    "\n",
    "    #Displaying info via table\n",
    "    headers = [\"Feature\", \"Type\", \"Values / Range\", \"Missing\",\"Duplicated\", \"Outliers\"]\n",
    "    display(HTML(tabulate(summary, headers=headers, tablefmt=\"html\")))\n",
    "    return summary\n"
   ]
  },
  {
   "cell_type": "code",
   "execution_count": 112,
   "id": "482573e5-74bf-4ac8-a559-3aea129bd3ac",
   "metadata": {},
   "outputs": [
    {
     "data": {
      "text/html": [
       "<table>\n",
       "<thead>\n",
       "<tr><th>Feature        </th><th>Type       </th><th>Values / Range                </th><th style=\"text-align: right;\">  Missing</th><th style=\"text-align: right;\">  Duplicated</th><th>Outliers  </th></tr>\n",
       "</thead>\n",
       "<tbody>\n",
       "<tr><td>CreditScore    </td><td>Numerical  </td><td>350.00 – 850.00               </td><td style=\"text-align: right;\">        0</td><td style=\"text-align: right;\">      164577</td><td>253       </td></tr>\n",
       "<tr><td>Geography      </td><td>Categorical</td><td>[&#x27;France&#x27;, &#x27;Germany&#x27;, &#x27;Spain&#x27;]</td><td style=\"text-align: right;\">        0</td><td style=\"text-align: right;\">      165031</td><td>N/A       </td></tr>\n",
       "<tr><td>Gender         </td><td>Categorical</td><td>[&#x27;Female&#x27;, &#x27;Male&#x27;]            </td><td style=\"text-align: right;\">        0</td><td style=\"text-align: right;\">      165032</td><td>N/A       </td></tr>\n",
       "<tr><td>Age            </td><td>Numerical  </td><td>18.00 – 92.00                 </td><td style=\"text-align: right;\">        0</td><td style=\"text-align: right;\">      164963</td><td>6394      </td></tr>\n",
       "<tr><td>Tenure         </td><td>Numerical  </td><td>0.00 – 10.00                  </td><td style=\"text-align: right;\">        0</td><td style=\"text-align: right;\">      165023</td><td>0         </td></tr>\n",
       "<tr><td>Balance        </td><td>Numerical  </td><td>0.00 – 250898.09              </td><td style=\"text-align: right;\">        0</td><td style=\"text-align: right;\">      134959</td><td>0         </td></tr>\n",
       "<tr><td>NumOfProducts  </td><td>Numerical  </td><td>1.00 – 4.00                   </td><td style=\"text-align: right;\">        0</td><td style=\"text-align: right;\">      165030</td><td>475       </td></tr>\n",
       "<tr><td>HasCrCard      </td><td>Numerical  </td><td>0.00 – 1.00                   </td><td style=\"text-align: right;\">        0</td><td style=\"text-align: right;\">      165032</td><td>40606     </td></tr>\n",
       "<tr><td>IsActiveMember </td><td>Numerical  </td><td>0.00 – 1.00                   </td><td style=\"text-align: right;\">        0</td><td style=\"text-align: right;\">      165032</td><td>0         </td></tr>\n",
       "<tr><td>EstimatedSalary</td><td>Numerical  </td><td>11.58 – 199992.48             </td><td style=\"text-align: right;\">        0</td><td style=\"text-align: right;\">      109736</td><td>0         </td></tr>\n",
       "<tr><td>Exited         </td><td>Numerical  </td><td>0.00 – 1.00                   </td><td style=\"text-align: right;\">        0</td><td style=\"text-align: right;\">      165032</td><td>34921     </td></tr>\n",
       "</tbody>\n",
       "</table>"
      ],
      "text/plain": [
       "<IPython.core.display.HTML object>"
      ]
     },
     "metadata": {},
     "output_type": "display_data"
    }
   ],
   "source": [
    "_=feature_summary_table(df)"
   ]
  },
  {
   "cell_type": "markdown",
   "id": "86884cc1-0ddb-4cbc-9759-4ad67b93a5a7",
   "metadata": {},
   "source": [
    "* <b> 2 Categorical features will need to be encoded\n",
    "* <b> Numerical features will need to be scaled/normalized\n",
    "* <b> No missing values found\n",
    "* <b> Some outliers found using pure math definition - will analyze further in visualization\n",
    "* <b> Some duplicates found: for some columns it's expected due to low variation but should still be investigated"
   ]
  },
  {
   "cell_type": "markdown",
   "id": "51e98d73-05b3-4f73-8f71-adeb8202747e",
   "metadata": {},
   "source": [
    "# Duplicates"
   ]
  },
  {
   "cell_type": "code",
   "execution_count": 12,
   "id": "eda5cbdf-f7ff-408a-b255-d9722599d497",
   "metadata": {},
   "outputs": [
    {
     "data": {
      "text/plain": [
       "0"
      ]
     },
     "execution_count": 12,
     "metadata": {},
     "output_type": "execute_result"
    }
   ],
   "source": [
    "#check for duplicates\n",
    "df1.duplicated().sum()"
   ]
  },
  {
   "cell_type": "code",
   "execution_count": 14,
   "id": "242ef169-6a1c-44dc-a96e-6ec8deaae3e0",
   "metadata": {},
   "outputs": [],
   "source": [
    "df2=df1.copy #Make a copy to use later"
   ]
  },
  {
   "cell_type": "code",
   "execution_count": 16,
   "id": "255cc1b7-593f-4be5-afb0-b4fbaf191bf9",
   "metadata": {},
   "outputs": [
    {
     "name": "stdout",
     "output_type": "stream",
     "text": [
      "Duplicates after dropping id column: 0\n"
     ]
    }
   ],
   "source": [
    "#dropping just id - no duplicates\n",
    "df1=df1.drop(columns=['id'])\n",
    "print(\"Duplicates after dropping id column:\", df1.duplicated().sum())"
   ]
  },
  {
   "cell_type": "code",
   "execution_count": 18,
   "id": "c2dd16cb-84bc-45ea-af7e-9093d7c09591",
   "metadata": {},
   "outputs": [
    {
     "data": {
      "text/plain": [
       "Index(['CustomerId', 'Surname', 'CreditScore', 'Geography', 'Gender', 'Age',\n",
       "       'Tenure', 'Balance', 'NumOfProducts', 'HasCrCard', 'IsActiveMember',\n",
       "       'EstimatedSalary', 'Exited'],\n",
       "      dtype='object')"
      ]
     },
     "execution_count": 18,
     "metadata": {},
     "output_type": "execute_result"
    }
   ],
   "source": [
    "df1.columns #Check columns in dataset"
   ]
  },
  {
   "cell_type": "code",
   "execution_count": 20,
   "id": "4ddcc63c-0552-43e0-af48-946f3c5e02e5",
   "metadata": {},
   "outputs": [
    {
     "name": "stdout",
     "output_type": "stream",
     "text": [
      "Duplicates after dropping id and customer id columns: 54\n"
     ]
    }
   ],
   "source": [
    "#Dropping id+ Customerid\n",
    "\n",
    "df1=df1.drop(columns=['CustomerId'])\n",
    "print(\"Duplicates after dropping id and customer id columns:\", df1.duplicated().sum())"
   ]
  },
  {
   "cell_type": "code",
   "execution_count": 22,
   "id": "afc3f885-e5d9-415c-add4-b5bb5a67fc22",
   "metadata": {},
   "outputs": [
    {
     "data": {
      "text/html": [
       "<div>\n",
       "<style scoped>\n",
       "    .dataframe tbody tr th:only-of-type {\n",
       "        vertical-align: middle;\n",
       "    }\n",
       "\n",
       "    .dataframe tbody tr th {\n",
       "        vertical-align: top;\n",
       "    }\n",
       "\n",
       "    .dataframe thead th {\n",
       "        text-align: right;\n",
       "    }\n",
       "</style>\n",
       "<table border=\"1\" class=\"dataframe\">\n",
       "  <thead>\n",
       "    <tr style=\"text-align: right;\">\n",
       "      <th></th>\n",
       "      <th>Surname</th>\n",
       "      <th>CreditScore</th>\n",
       "      <th>Geography</th>\n",
       "      <th>Gender</th>\n",
       "      <th>Age</th>\n",
       "      <th>Tenure</th>\n",
       "      <th>Balance</th>\n",
       "      <th>NumOfProducts</th>\n",
       "      <th>HasCrCard</th>\n",
       "      <th>IsActiveMember</th>\n",
       "      <th>EstimatedSalary</th>\n",
       "      <th>Exited</th>\n",
       "    </tr>\n",
       "  </thead>\n",
       "  <tbody>\n",
       "    <tr>\n",
       "      <th>60181</th>\n",
       "      <td>Barclay-Harvey</td>\n",
       "      <td>513</td>\n",
       "      <td>France</td>\n",
       "      <td>Male</td>\n",
       "      <td>44.0</td>\n",
       "      <td>1</td>\n",
       "      <td>63562.02</td>\n",
       "      <td>2</td>\n",
       "      <td>1.0</td>\n",
       "      <td>1.0</td>\n",
       "      <td>52629.73</td>\n",
       "      <td>0</td>\n",
       "    </tr>\n",
       "    <tr>\n",
       "      <th>115924</th>\n",
       "      <td>Barclay-Harvey</td>\n",
       "      <td>513</td>\n",
       "      <td>France</td>\n",
       "      <td>Male</td>\n",
       "      <td>44.0</td>\n",
       "      <td>1</td>\n",
       "      <td>63562.02</td>\n",
       "      <td>2</td>\n",
       "      <td>1.0</td>\n",
       "      <td>1.0</td>\n",
       "      <td>52629.73</td>\n",
       "      <td>0</td>\n",
       "    </tr>\n",
       "    <tr>\n",
       "      <th>48622</th>\n",
       "      <td>Black</td>\n",
       "      <td>641</td>\n",
       "      <td>France</td>\n",
       "      <td>Male</td>\n",
       "      <td>33.0</td>\n",
       "      <td>2</td>\n",
       "      <td>0.00</td>\n",
       "      <td>2</td>\n",
       "      <td>1.0</td>\n",
       "      <td>1.0</td>\n",
       "      <td>55796.83</td>\n",
       "      <td>0</td>\n",
       "    </tr>\n",
       "    <tr>\n",
       "      <th>119071</th>\n",
       "      <td>Black</td>\n",
       "      <td>641</td>\n",
       "      <td>France</td>\n",
       "      <td>Male</td>\n",
       "      <td>33.0</td>\n",
       "      <td>2</td>\n",
       "      <td>0.00</td>\n",
       "      <td>2</td>\n",
       "      <td>1.0</td>\n",
       "      <td>1.0</td>\n",
       "      <td>55796.83</td>\n",
       "      <td>0</td>\n",
       "    </tr>\n",
       "    <tr>\n",
       "      <th>137330</th>\n",
       "      <td>Brennan</td>\n",
       "      <td>765</td>\n",
       "      <td>France</td>\n",
       "      <td>Female</td>\n",
       "      <td>50.0</td>\n",
       "      <td>9</td>\n",
       "      <td>126547.80</td>\n",
       "      <td>1</td>\n",
       "      <td>1.0</td>\n",
       "      <td>1.0</td>\n",
       "      <td>79579.94</td>\n",
       "      <td>0</td>\n",
       "    </tr>\n",
       "    <tr>\n",
       "      <th>...</th>\n",
       "      <td>...</td>\n",
       "      <td>...</td>\n",
       "      <td>...</td>\n",
       "      <td>...</td>\n",
       "      <td>...</td>\n",
       "      <td>...</td>\n",
       "      <td>...</td>\n",
       "      <td>...</td>\n",
       "      <td>...</td>\n",
       "      <td>...</td>\n",
       "      <td>...</td>\n",
       "      <td>...</td>\n",
       "    </tr>\n",
       "    <tr>\n",
       "      <th>144132</th>\n",
       "      <td>Wright</td>\n",
       "      <td>632</td>\n",
       "      <td>France</td>\n",
       "      <td>Male</td>\n",
       "      <td>50.0</td>\n",
       "      <td>2</td>\n",
       "      <td>0.00</td>\n",
       "      <td>2</td>\n",
       "      <td>1.0</td>\n",
       "      <td>0.0</td>\n",
       "      <td>57942.88</td>\n",
       "      <td>0</td>\n",
       "    </tr>\n",
       "    <tr>\n",
       "      <th>20378</th>\n",
       "      <td>Yobachi</td>\n",
       "      <td>449</td>\n",
       "      <td>Spain</td>\n",
       "      <td>Female</td>\n",
       "      <td>33.0</td>\n",
       "      <td>8</td>\n",
       "      <td>0.00</td>\n",
       "      <td>2</td>\n",
       "      <td>1.0</td>\n",
       "      <td>0.0</td>\n",
       "      <td>156792.89</td>\n",
       "      <td>0</td>\n",
       "    </tr>\n",
       "    <tr>\n",
       "      <th>21512</th>\n",
       "      <td>Yobachi</td>\n",
       "      <td>449</td>\n",
       "      <td>Spain</td>\n",
       "      <td>Female</td>\n",
       "      <td>33.0</td>\n",
       "      <td>8</td>\n",
       "      <td>0.00</td>\n",
       "      <td>2</td>\n",
       "      <td>1.0</td>\n",
       "      <td>0.0</td>\n",
       "      <td>156792.89</td>\n",
       "      <td>0</td>\n",
       "    </tr>\n",
       "    <tr>\n",
       "      <th>30063</th>\n",
       "      <td>Young</td>\n",
       "      <td>606</td>\n",
       "      <td>Germany</td>\n",
       "      <td>Male</td>\n",
       "      <td>27.0</td>\n",
       "      <td>2</td>\n",
       "      <td>130274.26</td>\n",
       "      <td>2</td>\n",
       "      <td>1.0</td>\n",
       "      <td>1.0</td>\n",
       "      <td>147533.09</td>\n",
       "      <td>0</td>\n",
       "    </tr>\n",
       "    <tr>\n",
       "      <th>118065</th>\n",
       "      <td>Young</td>\n",
       "      <td>606</td>\n",
       "      <td>Germany</td>\n",
       "      <td>Male</td>\n",
       "      <td>27.0</td>\n",
       "      <td>2</td>\n",
       "      <td>130274.26</td>\n",
       "      <td>2</td>\n",
       "      <td>1.0</td>\n",
       "      <td>1.0</td>\n",
       "      <td>147533.09</td>\n",
       "      <td>0</td>\n",
       "    </tr>\n",
       "  </tbody>\n",
       "</table>\n",
       "<p>108 rows × 12 columns</p>\n",
       "</div>"
      ],
      "text/plain": [
       "               Surname  CreditScore Geography  Gender   Age  Tenure  \\\n",
       "60181   Barclay-Harvey          513    France    Male  44.0       1   \n",
       "115924  Barclay-Harvey          513    France    Male  44.0       1   \n",
       "48622            Black          641    France    Male  33.0       2   \n",
       "119071           Black          641    France    Male  33.0       2   \n",
       "137330         Brennan          765    France  Female  50.0       9   \n",
       "...                ...          ...       ...     ...   ...     ...   \n",
       "144132          Wright          632    France    Male  50.0       2   \n",
       "20378          Yobachi          449     Spain  Female  33.0       8   \n",
       "21512          Yobachi          449     Spain  Female  33.0       8   \n",
       "30063            Young          606   Germany    Male  27.0       2   \n",
       "118065           Young          606   Germany    Male  27.0       2   \n",
       "\n",
       "          Balance  NumOfProducts  HasCrCard  IsActiveMember  EstimatedSalary  \\\n",
       "60181    63562.02              2        1.0             1.0         52629.73   \n",
       "115924   63562.02              2        1.0             1.0         52629.73   \n",
       "48622        0.00              2        1.0             1.0         55796.83   \n",
       "119071       0.00              2        1.0             1.0         55796.83   \n",
       "137330  126547.80              1        1.0             1.0         79579.94   \n",
       "...           ...            ...        ...             ...              ...   \n",
       "144132       0.00              2        1.0             0.0         57942.88   \n",
       "20378        0.00              2        1.0             0.0        156792.89   \n",
       "21512        0.00              2        1.0             0.0        156792.89   \n",
       "30063   130274.26              2        1.0             1.0        147533.09   \n",
       "118065  130274.26              2        1.0             1.0        147533.09   \n",
       "\n",
       "        Exited  \n",
       "60181        0  \n",
       "115924       0  \n",
       "48622        0  \n",
       "119071       0  \n",
       "137330       0  \n",
       "...        ...  \n",
       "144132       0  \n",
       "20378        0  \n",
       "21512        0  \n",
       "30063        0  \n",
       "118065       0  \n",
       "\n",
       "[108 rows x 12 columns]"
      ]
     },
     "metadata": {},
     "output_type": "display_data"
    }
   ],
   "source": [
    "#Visualize the duplicates\n",
    "df1d=df1[df1.duplicated(keep=False)]\n",
    "display(df1d.sort_values(by=df1d.columns.tolist()))"
   ]
  },
  {
   "cell_type": "markdown",
   "id": "089c8f6f-d609-441d-b55d-fce9c12b9092",
   "metadata": {},
   "source": [
    "<b> Given that customers with the same surnames have the same salary and balance -- there's a high chance these are true duplicates"
   ]
  },
  {
   "cell_type": "code",
   "execution_count": 25,
   "id": "6ae00d23-100d-494e-ab6b-7953f389a2b6",
   "metadata": {},
   "outputs": [
    {
     "name": "stdout",
     "output_type": "stream",
     "text": [
      "Duplicates after dropping id, customerid, and surname columns: 123\n"
     ]
    }
   ],
   "source": [
    "#Dropping id + customer id + Surname \n",
    "df2=df2.drop(columns=['id','CustomerId','Surname'])\n",
    "print(\"Duplicates after dropping id, customerid, and surname columns:\", df2.duplicated().sum())"
   ]
  },
  {
   "cell_type": "code",
   "execution_count": 27,
   "id": "e9c5a2b2-7f5d-4e04-bf38-f5721471a92c",
   "metadata": {},
   "outputs": [
    {
     "data": {
      "text/html": [
       "<div>\n",
       "<style scoped>\n",
       "    .dataframe tbody tr th:only-of-type {\n",
       "        vertical-align: middle;\n",
       "    }\n",
       "\n",
       "    .dataframe tbody tr th {\n",
       "        vertical-align: top;\n",
       "    }\n",
       "\n",
       "    .dataframe thead th {\n",
       "        text-align: right;\n",
       "    }\n",
       "</style>\n",
       "<table border=\"1\" class=\"dataframe\">\n",
       "  <thead>\n",
       "    <tr style=\"text-align: right;\">\n",
       "      <th></th>\n",
       "      <th>Surname</th>\n",
       "      <th>CreditScore</th>\n",
       "      <th>Geography</th>\n",
       "      <th>Gender</th>\n",
       "      <th>Age</th>\n",
       "      <th>Tenure</th>\n",
       "      <th>Balance</th>\n",
       "      <th>NumOfProducts</th>\n",
       "      <th>HasCrCard</th>\n",
       "      <th>IsActiveMember</th>\n",
       "      <th>EstimatedSalary</th>\n",
       "      <th>Exited</th>\n",
       "    </tr>\n",
       "  </thead>\n",
       "  <tbody>\n",
       "    <tr>\n",
       "      <th>60181</th>\n",
       "      <td>Barclay-Harvey</td>\n",
       "      <td>513</td>\n",
       "      <td>France</td>\n",
       "      <td>Male</td>\n",
       "      <td>44.0</td>\n",
       "      <td>1</td>\n",
       "      <td>63562.02</td>\n",
       "      <td>2</td>\n",
       "      <td>1.0</td>\n",
       "      <td>1.0</td>\n",
       "      <td>52629.73</td>\n",
       "      <td>0</td>\n",
       "    </tr>\n",
       "    <tr>\n",
       "      <th>115924</th>\n",
       "      <td>Barclay-Harvey</td>\n",
       "      <td>513</td>\n",
       "      <td>France</td>\n",
       "      <td>Male</td>\n",
       "      <td>44.0</td>\n",
       "      <td>1</td>\n",
       "      <td>63562.02</td>\n",
       "      <td>2</td>\n",
       "      <td>1.0</td>\n",
       "      <td>1.0</td>\n",
       "      <td>52629.73</td>\n",
       "      <td>0</td>\n",
       "    </tr>\n",
       "    <tr>\n",
       "      <th>48622</th>\n",
       "      <td>Black</td>\n",
       "      <td>641</td>\n",
       "      <td>France</td>\n",
       "      <td>Male</td>\n",
       "      <td>33.0</td>\n",
       "      <td>2</td>\n",
       "      <td>0.00</td>\n",
       "      <td>2</td>\n",
       "      <td>1.0</td>\n",
       "      <td>1.0</td>\n",
       "      <td>55796.83</td>\n",
       "      <td>0</td>\n",
       "    </tr>\n",
       "    <tr>\n",
       "      <th>119071</th>\n",
       "      <td>Black</td>\n",
       "      <td>641</td>\n",
       "      <td>France</td>\n",
       "      <td>Male</td>\n",
       "      <td>33.0</td>\n",
       "      <td>2</td>\n",
       "      <td>0.00</td>\n",
       "      <td>2</td>\n",
       "      <td>1.0</td>\n",
       "      <td>1.0</td>\n",
       "      <td>55796.83</td>\n",
       "      <td>0</td>\n",
       "    </tr>\n",
       "    <tr>\n",
       "      <th>137330</th>\n",
       "      <td>Brennan</td>\n",
       "      <td>765</td>\n",
       "      <td>France</td>\n",
       "      <td>Female</td>\n",
       "      <td>50.0</td>\n",
       "      <td>9</td>\n",
       "      <td>126547.80</td>\n",
       "      <td>1</td>\n",
       "      <td>1.0</td>\n",
       "      <td>1.0</td>\n",
       "      <td>79579.94</td>\n",
       "      <td>0</td>\n",
       "    </tr>\n",
       "    <tr>\n",
       "      <th>...</th>\n",
       "      <td>...</td>\n",
       "      <td>...</td>\n",
       "      <td>...</td>\n",
       "      <td>...</td>\n",
       "      <td>...</td>\n",
       "      <td>...</td>\n",
       "      <td>...</td>\n",
       "      <td>...</td>\n",
       "      <td>...</td>\n",
       "      <td>...</td>\n",
       "      <td>...</td>\n",
       "      <td>...</td>\n",
       "    </tr>\n",
       "    <tr>\n",
       "      <th>144132</th>\n",
       "      <td>Wright</td>\n",
       "      <td>632</td>\n",
       "      <td>France</td>\n",
       "      <td>Male</td>\n",
       "      <td>50.0</td>\n",
       "      <td>2</td>\n",
       "      <td>0.00</td>\n",
       "      <td>2</td>\n",
       "      <td>1.0</td>\n",
       "      <td>0.0</td>\n",
       "      <td>57942.88</td>\n",
       "      <td>0</td>\n",
       "    </tr>\n",
       "    <tr>\n",
       "      <th>20378</th>\n",
       "      <td>Yobachi</td>\n",
       "      <td>449</td>\n",
       "      <td>Spain</td>\n",
       "      <td>Female</td>\n",
       "      <td>33.0</td>\n",
       "      <td>8</td>\n",
       "      <td>0.00</td>\n",
       "      <td>2</td>\n",
       "      <td>1.0</td>\n",
       "      <td>0.0</td>\n",
       "      <td>156792.89</td>\n",
       "      <td>0</td>\n",
       "    </tr>\n",
       "    <tr>\n",
       "      <th>21512</th>\n",
       "      <td>Yobachi</td>\n",
       "      <td>449</td>\n",
       "      <td>Spain</td>\n",
       "      <td>Female</td>\n",
       "      <td>33.0</td>\n",
       "      <td>8</td>\n",
       "      <td>0.00</td>\n",
       "      <td>2</td>\n",
       "      <td>1.0</td>\n",
       "      <td>0.0</td>\n",
       "      <td>156792.89</td>\n",
       "      <td>0</td>\n",
       "    </tr>\n",
       "    <tr>\n",
       "      <th>30063</th>\n",
       "      <td>Young</td>\n",
       "      <td>606</td>\n",
       "      <td>Germany</td>\n",
       "      <td>Male</td>\n",
       "      <td>27.0</td>\n",
       "      <td>2</td>\n",
       "      <td>130274.26</td>\n",
       "      <td>2</td>\n",
       "      <td>1.0</td>\n",
       "      <td>1.0</td>\n",
       "      <td>147533.09</td>\n",
       "      <td>0</td>\n",
       "    </tr>\n",
       "    <tr>\n",
       "      <th>118065</th>\n",
       "      <td>Young</td>\n",
       "      <td>606</td>\n",
       "      <td>Germany</td>\n",
       "      <td>Male</td>\n",
       "      <td>27.0</td>\n",
       "      <td>2</td>\n",
       "      <td>130274.26</td>\n",
       "      <td>2</td>\n",
       "      <td>1.0</td>\n",
       "      <td>1.0</td>\n",
       "      <td>147533.09</td>\n",
       "      <td>0</td>\n",
       "    </tr>\n",
       "  </tbody>\n",
       "</table>\n",
       "<p>108 rows × 12 columns</p>\n",
       "</div>"
      ],
      "text/plain": [
       "               Surname  CreditScore Geography  Gender   Age  Tenure  \\\n",
       "60181   Barclay-Harvey          513    France    Male  44.0       1   \n",
       "115924  Barclay-Harvey          513    France    Male  44.0       1   \n",
       "48622            Black          641    France    Male  33.0       2   \n",
       "119071           Black          641    France    Male  33.0       2   \n",
       "137330         Brennan          765    France  Female  50.0       9   \n",
       "...                ...          ...       ...     ...   ...     ...   \n",
       "144132          Wright          632    France    Male  50.0       2   \n",
       "20378          Yobachi          449     Spain  Female  33.0       8   \n",
       "21512          Yobachi          449     Spain  Female  33.0       8   \n",
       "30063            Young          606   Germany    Male  27.0       2   \n",
       "118065           Young          606   Germany    Male  27.0       2   \n",
       "\n",
       "          Balance  NumOfProducts  HasCrCard  IsActiveMember  EstimatedSalary  \\\n",
       "60181    63562.02              2        1.0             1.0         52629.73   \n",
       "115924   63562.02              2        1.0             1.0         52629.73   \n",
       "48622        0.00              2        1.0             1.0         55796.83   \n",
       "119071       0.00              2        1.0             1.0         55796.83   \n",
       "137330  126547.80              1        1.0             1.0         79579.94   \n",
       "...           ...            ...        ...             ...              ...   \n",
       "144132       0.00              2        1.0             0.0         57942.88   \n",
       "20378        0.00              2        1.0             0.0        156792.89   \n",
       "21512        0.00              2        1.0             0.0        156792.89   \n",
       "30063   130274.26              2        1.0             1.0        147533.09   \n",
       "118065  130274.26              2        1.0             1.0        147533.09   \n",
       "\n",
       "        Exited  \n",
       "60181        0  \n",
       "115924       0  \n",
       "48622        0  \n",
       "119071       0  \n",
       "137330       0  \n",
       "...        ...  \n",
       "144132       0  \n",
       "20378        0  \n",
       "21512        0  \n",
       "30063        0  \n",
       "118065       0  \n",
       "\n",
       "[108 rows x 12 columns]"
      ]
     },
     "metadata": {},
     "output_type": "display_data"
    }
   ],
   "source": [
    "#Visualize the duplicates\n",
    "df1d=df1[df1.duplicated(keep=False)]\n",
    "display(df1d.sort_values(by=df1d.columns.tolist()))"
   ]
  },
  {
   "cell_type": "markdown",
   "id": "5e029f91-961c-4d2f-89b0-408d1d030565",
   "metadata": {},
   "source": [
    "* <b> Lookes like what is happening here could be that customers with different surnames but similar balances are now considered duplicates\n",
    "* <b> As of right now, I will assume the that 54 duplicates from df1 were genuine duplicates and will drop them"
   ]
  },
  {
   "cell_type": "markdown",
   "id": "260a07f8-6e09-42b6-926c-177d7b70224d",
   "metadata": {},
   "source": [
    "# Target"
   ]
  },
  {
   "cell_type": "code",
   "execution_count": 164,
   "id": "f49994b6-fa42-4093-b13b-2fa8d5c651b2",
   "metadata": {},
   "outputs": [
    {
     "data": {
      "text/html": [
       "<h4>Target Column: Exited </h4>"
      ],
      "text/plain": [
       "<IPython.core.display.HTML object>"
      ]
     },
     "metadata": {},
     "output_type": "display_data"
    },
    {
     "data": {
      "text/html": [
       "<table>\n",
       "<tbody>\n",
       "<tr><td>Total samples</td><td>164911</td></tr>\n",
       "<tr><td>Unique cases </td><td>2     </td></tr>\n",
       "<tr><td>Unique Values</td><td>[0, 1]</td></tr>\n",
       "</tbody>\n",
       "</table>"
      ],
      "text/plain": [
       "<IPython.core.display.HTML object>"
      ]
     },
     "metadata": {},
     "output_type": "display_data"
    }
   ],
   "source": [
    "#Check if target column is binary\n",
    "\n",
    "total = df['Exited'].count()\n",
    "unique = df['Exited'].nunique()\n",
    "values = df['Exited'].unique()\n",
    "\n",
    "table = [['Total samples', total],\n",
    "    ['Unique cases', unique],\n",
    "    ['Unique Values', list(values)]]\n",
    "\n",
    "display(HTML(\"<h4>Target Column: Exited </h4>\"))\n",
    "display(HTML(tabulate(table, tablefmt='html')))"
   ]
  },
  {
   "cell_type": "markdown",
   "id": "ef71d2bf-6676-4e00-b89a-d2115d808043",
   "metadata": {},
   "source": [
    "# Class Imbalance"
   ]
  },
  {
   "cell_type": "code",
   "execution_count": 16,
   "id": "35b081fa-9622-442e-80b4-eca458cf53bf",
   "metadata": {},
   "outputs": [
    {
     "name": "stdout",
     "output_type": "stream",
     "text": [
      "Stayed: 130113\n",
      "Churn: 34921\n"
     ]
    }
   ],
   "source": [
    "#Check for class imbalance in target column\n",
    "d=df['Exited'].value_counts()\n",
    "\n",
    "for i in d.index:\n",
    "    if i == 0:\n",
    "        print(\"Stayed:\", d[i])\n",
    "    else:\n",
    "        print(\"Churn:\", d[i])"
   ]
  },
  {
   "cell_type": "code",
   "execution_count": 32,
   "id": "f0305014-cc4b-46fa-bef6-8381433cd1dd",
   "metadata": {},
   "outputs": [
    {
     "data": {
      "image/png": "[encoded data removed]",
      "text/plain": [
       "<Figure size 600x400 with 1 Axes>"
      ]
     },
     "metadata": {},
     "output_type": "display_data"
    }
   ],
   "source": [
    "#Bar graph of class imbalance\n",
    "\n",
    "labels = ['Stayed', 'Churn']\n",
    "values = [d[0], d[1]]\n",
    "\n",
    "plt.figure(figsize=(6, 4))\n",
    "plt.bar(labels, values, color=['paleturquoise', 'palevioletred'])\n",
    "plt.title(\"Customer Churn Distribution\")\n",
    "plt.ylabel(\"Number of Customers\")\n",
    "plt.show()"
   ]
  },
  {
   "cell_type": "markdown",
   "id": "0fb1075f-50bb-4ac5-be1d-15b957b237b3",
   "metadata": {},
   "source": [
    "<b> Target column is encoded into 0 and 1. There is some class imbalance and will need to be taken care of depending on the type of model to be used for training/learning. "
   ]
  },
  {
   "cell_type": "code",
   "execution_count": null,
   "id": "40fa2689-4218-4853-b97b-8cc5365a19c4",
   "metadata": {},
   "outputs": [],
   "source": []
  }
 ],
 "metadata": {
  "kernelspec": {
   "display_name": "Python 3 (ipykernel)",
   "language": "python",
   "name": "python3"
  },
  "language_info": {
   "codemirror_mode": {
    "name": "ipython",
    "version": 3
   },
   "file_extension": ".py",
   "mimetype": "text/x-python",
   "name": "python",
   "nbconvert_exporter": "python",
   "pygments_lexer": "ipython3",
   "version": "3.12.4"
  }
 },
 "nbformat": 4,
 "nbformat_minor": 5
}
